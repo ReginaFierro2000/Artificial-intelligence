{
  "nbformat": 4,
  "nbformat_minor": 0,
  "metadata": {
    "colab": {
      "provenance": [],
      "authorship_tag": "ABX9TyMcALzgN54dEOkdia9ch2V0",
      "include_colab_link": true
    },
    "kernelspec": {
      "name": "python3",
      "display_name": "Python 3"
    },
    "language_info": {
      "name": "python"
    }
  },
  "cells": [
    {
      "cell_type": "markdown",
      "metadata": {
        "id": "view-in-github",
        "colab_type": "text"
      },
      "source": [
        "<a href=\"https://colab.research.google.com/github/ReginaFierro2000/Artificial-intelligence/blob/main/Genetic_Algorithm.ipynb\" target=\"_parent\"><img src=\"https://colab.research.google.com/assets/colab-badge.svg\" alt=\"Open In Colab\"/></a>"
      ]
    },
    {
      "cell_type": "code",
      "source": [
        "import numpy as np\n",
        "from collections import Counter\n",
        "from random import choices\n",
        "from tqdm import tqdm"
      ],
      "metadata": {
        "id": "XTDwMwytwxpz"
      },
      "execution_count": 21,
      "outputs": []
    },
    {
      "cell_type": "code",
      "execution_count": 22,
      "metadata": {
        "id": "Ci9SZhXdq-PL"
      },
      "outputs": [],
      "source": [
        "def generatePopulation(self, PoblacionTotal, cities):\n",
        "    population = []S\n",
        "    for i in range(PoblacionTotal):\n",
        "        population.append(random.sample(range(cities), cities))\n",
        "    return population\n",
        "\n",
        "def calculateFitness(self, path, adjList):\n",
        "    fit = 0\n",
        "    for i in range(len(path)-1):\n",
        "        for j in range(len(adjList[path[i]])):\n",
        "            if adjList[path[i]][j][0] == path[i+1]:\n",
        "                fit += adjList[path[i]][j][2]\n",
        "                break\n",
        "    return fit\n",
        "\n",
        "def fitnes(self, population, PoblacionTotal, threshold):\n",
        "    fits = []\n",
        "    for i in range(len(population)):\n",
        "        fit = self.calculateFitness(population[i], adjList)\n",
        "        if fit < 2000:\n",
        "            fits.append((population[i], fit))\n",
        "    fits = sorted(fits, key=lambda x: x[1])\n",
        "    limit = int(len(fits) * threshold)\n",
        "    return [x[0] for x in fits[:limit]]\n",
        "\n",
        "def breed(self, population):\n",
        "    newPop = []\n",
        "    for i in range(len(population)):\n",
        "        parent1 = random.choice(population)\n",
        "        parent2 = random.choice(population)\n",
        "        split = random.randint(0, len(parent1)-1)\n",
        "        child = parent1[:split]\n",
        "        for j in parent2:\n",
        "            if j not in child:\n",
        "                child.append(j)\n",
        "        newPop.append(child)\n",
        "    return newPop\n",
        "\n",
        "def GetElite(self, population, n):\n",
        "    return sorted(population, key=lambda x: self.calculateFitness(x, adjList))[:n]"
      ]
    },
    {
      "cell_type": "markdown",
      "source": [
        "\n",
        "AdjList contains the time and cost for each country\n",
        "\n"
      ],
      "metadata": {
        "id": "Gf3vv17q7TXA"
      }
    },
    {
      "cell_type": "code",
      "source": [
        "adjList = {\n",
        "    0: [(1, 225, 380), (11, 150, 98)],  # Madrid\n",
        "    1: [(0, 225, 380), (11, 390, 400), (10, 112, 185), (6, 480, 345), (3, 82, 80), (2, 136, 98)],  # Paris\n",
        "    2: [(1, 136, 98)],  # London\n",
        "    3: [(1, 82, 80), (4, 105, 48)],  # Brucelas\n",
        "    4: [(3, 105, 48), (7, 120, 40), (5, 364, 235)],  # Amsterdan\n",
        "    5: [(4, 364, 235), (6, 232, 125)],  # Berlin\n",
        "    6: [(5, 232, 125), (7, 120, 40), (1, 480, 345), (8, 454, 240)],  # Frankfurt\n",
        "    7: [(4, 120, 40), (6, 120, 40)],  # Cologne\n",
        "    8: [(6, 454, 240), (9, 168, 125), (10, 176, 180)],  # Milan\n",
        "    9: [(8, 168, 125)],  # Rome\n",
        "    10: [(8, 176, 180), (1, 112, 185), (11, 200, 320)],  # Lyon\n",
        "    11: [(0, 150, 98), (1, 390, 400), (10, 200, 320)]  # Barcelona\n",
        "}\n"
      ],
      "metadata": {
        "id": "LYC4RPBzva20"
      },
      "execution_count": 23,
      "outputs": []
    },
    {
      "cell_type": "markdown",
      "source": [
        "To visualize and have greater control over the variables, I created 3 arrangements of the cities, the costs and the time of each one of them."
      ],
      "metadata": {
        "id": "P-bVAjZU7cze"
      }
    },
    {
      "cell_type": "code",
      "source": [
        "tiempo_max = 72*60\n",
        "\n",
        "nombre_ciudad = [\"Madrid\", \"Barcelona\", \"Paris\", \"Lyon\", \"London\", \"Brussels\",\n",
        "                \"Frankfurt\", \"Milan\", \"Amsterdam\", \"Cologne\", \"Berlin\", \"Roma\"]\n",
        "\n",
        "ady = np.asarray([\n",
        "    #0, 1, 2, 3, 4, 5, 6, 7, 8, 9, 10, 11\n",
        "    [0, 1, 1, 0, 0, 0, 0, 0, 0, 0, 0, 0], #Madrid\n",
        "    [1, 0, 1, 1, 0, 0, 0, 0, 0, 0, 0, 0], #Barcelona\n",
        "    [1, 1, 0, 1, 1, 1, 1, 0, 0, 0, 0, 0], #Paris\n",
        "    [0, 1, 1, 0, 0, 0, 0, 1, 0, 0, 0, 0], #Lyon\n",
        "    [0, 0, 1, 0, 0, 0, 0, 0, 0, 0, 0, 0], #London\n",
        "    [0, 0, 1, 0, 0, 0, 0, 0, 1, 0, 0, 0], #Brussels\n",
        "    [0, 0, 1, 0, 0, 0, 0, 1, 0, 1, 1, 0], #Frankfurt\n",
        "    [0, 0, 0, 1, 0, 0, 1, 0, 0, 0, 0, 1], #Milan\n",
        "    [0, 0, 0, 0, 0, 1, 0, 0, 0, 1, 1, 0], #Amsterdam\n",
        "    [0, 0, 0, 0, 0, 0, 1, 0, 1, 0, 0, 0], #Cologne\n",
        "    [0, 0, 0, 0, 0, 0, 1, 0, 1, 0, 0, 0], #Berlin\n",
        "    [0, 0, 0, 0, 0, 0, 0, 1, 0, 0, 0, 0], #Roma\n",
        "])\n",
        "\n",
        "CT = np.asarray([\n",
        "    [0, 150, 225, 0, 0, 0, 0, 0, 0, 0, 0, 0], #Madrid\n",
        "    [150, 0, 390, 200, 0, 0, 0, 0, 0, 0, 0, 0], #Barcelona\n",
        "    [225, 390, 0, 112, 136, 82, 480, 0, 0, 0, 0, 0], #Paris\n",
        "    [0, 200, 112, 0, 0, 0, 0, 176, 0, 0, 0, 0], #Lyon\n",
        "    [0, 0, 136, 0, 0, 0, 0, 0, 0, 0, 0, 0], #London\n",
        "    [0, 0, 82, 0, 0, 0, 0, 0, 120, 0, 0, 0], #Brussels\n",
        "    [0, 0, 480, 0, 0, 0, 0, 454, 0, 120, 232, 0], #Frankfurt\n",
        "    [0, 0, 0, 176, 0, 0, 454, 0, 0, 0, 0, 168], #Milan\n",
        "    [0, 0, 0, 0, 0, 120, 0, 0, 0, 120, 364, 0], #Amsterdam\n",
        "    [0, 0, 0, 0, 0, 0, 120, 0, 120, 0, 0, 0], #Cologne\n",
        "    [0, 0, 0, 0, 0, 0, 232, 0, 364, 0, 0, 0], #Berlin\n",
        "    [0, 0, 0, 0, 0, 0, 0, 168, 0, 0, 0, 0], #Roma\n",
        "])\n",
        "\n",
        "CD = np.asarray([\n",
        "    [0, 98, 380, 0, 0, 0, 0, 0, 0, 0, 0, 0], #Madrid\n",
        "    [98, 0, 400, 320, 0, 0, 0, 0, 0, 0, 0, 0], #Barcelona\n",
        "    [380, 400, 0, 185, 98, 80, 345, 0, 0, 0, 0, 0], #Paris\n",
        "    [0, 320, 185, 0, 0, 0, 0, 180, 0, 0, 0, 0], #Lyon\n",
        "    [0, 0, 98, 0, 0, 0, 0, 0, 0, 0, 0, 0], #London\n",
        "    [0, 0, 80, 0, 0, 0, 0, 0, 48, 0, 0, 0], #Brussels\n",
        "    [0, 0, 345, 0, 0, 0, 0, 240, 0, 40, 125, 0], #Frankfurt\n",
        "    [0, 0, 0, 180, 0, 0, 240, 0, 0, 0, 0, 125], #Milan\n",
        "    [0, 0, 0, 0, 0, 48, 0, 0, 0, 40, 235, 0], #Amsterdam\n",
        "    [0, 0, 0, 0, 0, 0, 40, 0, 40, 0, 0, 0], #Cologne\n",
        "    [0, 0, 0, 0, 0, 0, 125, 0, 235, 0, 0, 0], #Berlin\n",
        "    [0, 0, 0, 0, 0, 0, 0, 125, 0, 0, 0, 0], #Roma\n",
        "])"
      ],
      "metadata": {
        "id": "qz1HCY2Vy5nw"
      },
      "execution_count": 24,
      "outputs": []
    },
    {
      "cell_type": "markdown",
      "source": [
        "I created several functions to be able to execute the genetic algorithm"
      ],
      "metadata": {
        "id": "kUP6nmFV8K4v"
      }
    },
    {
      "cell_type": "code",
      "source": [
        "def FG(pop_size, gen_size):  # primera generación\n",
        "    gen = []\n",
        "    for i in range(pop_size):\n",
        "        gen.append(CG(gen_size))\n",
        "    return gen\n",
        "    \n",
        "def NG(pop, pop_size, elitism_coef):  #segunda generación\n",
        "    fit = pop_fitness(pop)\n",
        "    if np.all(fit == 0) or sum(fit) == 0:\n",
        "        return FG(pop_size, gen_size)\n",
        "    \n",
        "    citiesno = cities(pop)\n",
        "    temp = pop\n",
        "    temp.sort(key = fitness, reverse = True)\n",
        "    for i in range(len(fit)):\n",
        "        if fit[i] != 0:\n",
        "            fit[i]+= citiesno[i]\n",
        "    \n",
        "    nextgen = []\n",
        "    for i in range(elitism_coef):\n",
        "        nextgen.append(temp[i])\n",
        "    \n",
        "    for i in range(int(np.floor((pop_size - elitism_coef)/2))):\n",
        "        pair = choices(pop, weights = fit, k = 2)\n",
        "        nextgen.extend(mutate(pair[0], pair[1]))\n",
        "    \n",
        "    return nextgen\n",
        "    \n",
        "    \n",
        "def CG(gen_size):   #create_genome\n",
        "    genome = []\n",
        "    genome.append(int(np.random.randint(city_no+1)))\n",
        "    for i in range(gen_size):\n",
        "        flag = True\n",
        "        dobreak = False\n",
        "        \n",
        "        while flag:\n",
        "            j  = int(np.random.randint(0, city_no))\n",
        "            if ady[genome[-1], j] == 1:\n",
        "                flag = False\n",
        "            \n",
        "            if cities([genome])[0] == city_no+1:\n",
        "                dobreak = True\n",
        "        if dobreak: break\n",
        "        genome.append(j)\n",
        "    \n",
        "    return genome\n",
        "\n",
        "def solution(genome):\n",
        "    solution = \"\"\n",
        "    for i in range(len(genome)-1):\n",
        "       solution += f\"{nombre_ciudad[genome[i]]} -> \"\n",
        "    solution+= f\"{nombre_ciudad[genome[-1]]}\"\n",
        "    return solution\n",
        "\n",
        "def pop_fitness(population):\n",
        "    fit = []\n",
        "    for x in population:\n",
        "        fit.append(fitness(x))\n",
        "\n",
        "    totcost = 0\n",
        "    for i in range(len(fit)):\n",
        "        totcost += fit[i]\n",
        "    \n",
        "    cont = 0\n",
        "    for i in range(len(fit)):\n",
        "        if fit[i] != 0:\n",
        "            cont+=1\n",
        "    \n",
        "    for i in range(len(fit)):\n",
        "        if cont == 1:\n",
        "            fit[i] = fit[i]/(totcost)\n",
        "        elif(cont > 1):\n",
        "            fit[i] = (1 - (fit[i]/totcost))/(cont-1)\n",
        "    \n",
        "            \n",
        "    return fit\n",
        "\n",
        "def fitness(genome):\n",
        "    cost = 0\n",
        "    time = 0\n",
        "    for i in range(len(genome)-1):\n",
        "        if genome[i] == genome[i+1]:\n",
        "            break\n",
        "        else:\n",
        "            cost += CD[genome[i]][genome[i+1]]\n",
        "            time += CT[genome[i]][genome[i+1]]\n",
        "    if time > tiempo_max:\n",
        "        return 0\n",
        "    \n",
        "    return cost\n",
        "\n",
        "def cities(pop):\n",
        "    cit = []\n",
        "    for genome in pop:\n",
        "        counter_object = Counter(genome)\n",
        "        keys = counter_object.keys()\n",
        "        cit.append(len(keys))\n",
        "    return cit\n",
        "    \n",
        "def mutate(genome1, genome2):\n",
        "    \n",
        "    if set(genome1).intersection(genome2) == set():\n",
        "        child1 = CG(len(genome1))\n",
        "        child2 = CG(len(genome2))\n",
        "        return child1, child2\n",
        "    \n",
        "    while True:\n",
        "        city = int(np.random.randint(0, city_no))        \n",
        "        if (city in genome1) and (city in genome2):\n",
        "            p = genome1.index(city)\n",
        "            q = genome2.index(city)\n",
        "            child1 = genome1[:p] + genome2[q:]\n",
        "            child2 = genome2[:q] + genome1[p:]\n",
        "            return child1, child2"
      ],
      "metadata": {
        "id": "U2RUmjwQyrfz"
      },
      "execution_count": 25,
      "outputs": []
    },
    {
      "cell_type": "code",
      "source": [
        "city_no = len(adjList)-1\n",
        "pop_size = 16\n",
        "gen_size = 60\n",
        "epochs = 600\n",
        "elitism_coef = 2\n",
        "\n",
        "genome = CG(gen_size)\n",
        "solución = solution(genome)\n",
        "\n",
        "\n",
        "print(genome)\n",
        "print(solución)\n",
        "print(type(genome[0]))\n",
        "print(fitness(genome))"
      ],
      "metadata": {
        "colab": {
          "base_uri": "https://localhost:8080/"
        },
        "id": "LQChFMnRyvV8",
        "outputId": "0d51e999-2e37-4bff-e74d-ea14b26eb0b1"
      },
      "execution_count": 30,
      "outputs": [
        {
          "output_type": "stream",
          "name": "stdout",
          "text": [
            "[8, 10, 8, 5, 8, 9, 8, 9, 6, 7, 6, 9, 6, 10, 6, 10, 6, 2, 0, 1, 2, 4, 2, 0, 1, 2, 0, 2, 4, 2, 6, 2, 3, 1, 2, 1, 0, 2, 5, 8, 5, 2, 3, 2, 5, 8, 5, 8, 10, 8, 9, 8, 9, 8, 5, 2, 4, 2, 6, 2, 5]\n",
            "Amsterdam -> Berlin -> Amsterdam -> Brussels -> Amsterdam -> Cologne -> Amsterdam -> Cologne -> Frankfurt -> Milan -> Frankfurt -> Cologne -> Frankfurt -> Berlin -> Frankfurt -> Berlin -> Frankfurt -> Paris -> Madrid -> Barcelona -> Paris -> London -> Paris -> Madrid -> Barcelona -> Paris -> Madrid -> Paris -> London -> Paris -> Frankfurt -> Paris -> Lyon -> Barcelona -> Paris -> Barcelona -> Madrid -> Paris -> Brussels -> Amsterdam -> Brussels -> Paris -> Lyon -> Paris -> Brussels -> Amsterdam -> Brussels -> Amsterdam -> Berlin -> Amsterdam -> Cologne -> Amsterdam -> Cologne -> Amsterdam -> Brussels -> Paris -> London -> Paris -> Frankfurt -> Paris -> Brussels\n",
            "<class 'int'>\n",
            "0\n"
          ]
        }
      ]
    },
    {
      "cell_type": "code",
      "source": [
        "pop = FG(pop_size, gen_size)\n",
        "pop = NG(pop, pop_size, elitism_coef)\n",
        "fit = pop_fitness(pop)\n",
        "for gene in pop:\n",
        "    print(gene)\n",
        "for x in fit:\n",
        "    print(x)"
      ],
      "metadata": {
        "colab": {
          "base_uri": "https://localhost:8080/"
        },
        "id": "YH60ixHszuS4",
        "outputId": "b75e0eb0-5743-4c83-f5a4-f5bca4204117"
      },
      "execution_count": 31,
      "outputs": [
        {
          "output_type": "stream",
          "name": "stdout",
          "text": [
            "[10, 6, 7, 6, 7, 6, 9, 6, 2, 3, 1, 2, 0, 2, 4, 2, 4, 2, 1, 2, 4, 2, 1, 2, 1, 2, 5, 2, 5, 2, 0, 2, 4, 2, 4, 2, 4, 2, 6, 2, 1, 2, 5, 2, 3, 1, 0, 2, 3, 2, 0, 2, 3, 2, 6, 7, 3, 2, 4, 2, 3]\n",
            "[8, 10, 8, 10, 6, 9, 8, 9, 8, 9, 6, 2, 1, 0, 2, 4, 2, 5, 8, 5, 8, 10, 8, 9, 8, 9, 8, 5, 2, 6, 9, 6, 7, 3, 2, 5, 8, 5, 8, 10, 8, 10, 6, 9, 8, 10, 6, 10, 6, 9, 8, 5, 8, 10, 6, 7, 3, 2, 6, 10, 6]\n",
            "[6, 2, 3, 1, 3, 1, 2, 0, 1, 2, 1, 0, 1, 2, 6, 7, 6, 2, 6, 2, 1, 2, 3, 2, 0, 1, 2, 4, 2, 3, 1, 2, 5, 2, 4, 2, 0, 1, 2, 4, 2, 4, 2, 6, 7, 3, 2, 0, 1, 0, 2, 3, 1, 0, 1, 3, 7, 3, 7, 6, 9]\n",
            "[5, 8, 5, 8, 10, 6, 9, 8, 5, 2, 4, 2, 1, 3, 7, 6, 2, 1, 3, 2, 0, 2, 4, 2, 6, 7, 3, 1, 2, 1, 2, 5, 2, 5, 8, 10, 8, 9, 6, 7, 6, 2, 1, 0, 2, 4, 2, 1, 3, 1, 0, 1, 3, 1, 2, 4, 2, 6, 9, 6, 2]\n",
            "[8, 9, 6, 7, 6, 9, 8, 10, 8, 10, 8, 9, 6, 10, 6, 7, 6, 9, 6, 7, 6, 7, 6, 9, 6, 2, 5, 2, 5, 2, 4, 2, 0, 1, 0, 2, 0, 1, 2, 4, 2, 5, 2, 3, 2, 0, 2, 6, 7, 6, 10, 6, 10, 6, 9, 8, 9, 6, 9, 8, 10]\n",
            "[6, 2, 5, 8, 5, 8, 10, 8, 5, 8, 10, 8, 10, 6, 7, 6, 7, 6, 10, 8, 5, 8, 10, 6, 10, 6, 2, 4, 2, 5, 2, 0, 2, 6, 2, 5, 8, 9, 8, 10, 8, 10, 8, 10, 8, 9, 6, 9, 6, 2, 6, 2, 6, 10, 6, 7, 6, 9, 8, 5, 2]\n",
            "[9, 6, 9, 8, 5, 2, 3, 1, 0, 2, 3, 7, 6, 10, 8, 10, 6, 7, 3, 7, 3, 7, 6, 9, 6, 10, 8, 10, 8, 9, 8, 10, 8, 5, 8, 9, 8, 9, 8, 9, 8, 5, 8, 5, 8, 10, 8, 5, 8, 10, 6, 10, 8, 5, 2, 6, 2, 6, 9, 6, 2]\n",
            "[0, 1, 2, 0, 1, 2, 6, 2, 6, 9, 6, 9, 6, 2, 5, 8, 9, 8, 5, 8, 10, 6, 2, 5, 8, 9, 8, 10, 8, 5, 2, 4, 2, 4, 2, 1, 2, 5, 8, 10, 8, 10, 6, 10, 8, 5, 8, 10, 8, 9, 6, 2, 5, 2, 3, 7, 3, 1, 0, 2, 5]\n",
            "[0, 2, 5, 8, 10, 6, 9, 6, 2, 4, 2, 1, 3, 2, 6, 2, 3, 2, 3, 2, 3, 2, 0, 1, 2, 6, 2, 6, 9, 8, 5, 2, 0, 1, 3, 7, 6, 10, 8, 9, 8, 10, 6, 10, 8, 5, 8, 5, 2, 0, 2, 5, 2, 1, 3, 1, 2, 5, 2, 3, 7]\n",
            "[1, 2, 0, 1, 3, 7, 6, 7, 6, 10, 6, 2, 0, 2, 4, 2, 6, 9, 6, 9, 6, 9, 8, 10, 6, 9, 8, 10, 8, 5, 8, 10, 6, 7, 6, 2, 5, 8, 5, 2, 5, 8, 9, 8, 9, 6, 9, 8, 10, 8, 9, 8, 5, 8, 5, 2, 0, 2, 4, 2, 6]\n",
            "[1, 2, 6, 2, 0, 1, 0, 1, 0, 1, 3, 2, 4, 2, 1, 2, 1, 3, 7, 6, 7, 3, 1, 2, 1, 0, 2, 0, 2, 3, 1, 0, 2, 3, 7, 3, 7, 3, 1, 3, 1, 3, 2, 6, 7, 3, 7, 6, 9, 6, 7, 3, 2, 5, 2, 0, 2, 5, 2, 5, 8]\n",
            "[11, 7, 3, 2, 6, 10, 8, 5, 2, 6, 9, 6, 9, 6, 10, 6, 2, 6, 2, 1, 2, 4, 2, 5, 8, 10, 8, 5, 2, 3, 7, 3, 2, 4, 2, 6, 10, 6, 2, 3, 2, 0]\n",
            "[6, 10, 6, 7, 6, 10, 8, 5, 8, 5, 2, 4, 2, 4, 2, 6, 7, 3, 7, 6, 9, 8, 9, 8, 5, 2, 3, 1, 0, 1, 3, 2, 1, 0, 2, 3, 2, 5, 2, 0, 2, 6, 7, 3, 2, 1, 3, 2, 6, 9, 6, 7, 6, 7, 6, 10, 6, 10, 8, 5, 8]\n",
            "[11, 7, 3, 7, 3, 1, 3, 1, 2, 6, 2, 6, 9, 8, 5, 8, 10, 6, 7, 3, 2, 3, 1, 2, 3, 2, 0, 2, 0, 2, 5, 8, 5, 2, 1, 3, 2, 0, 1, 3, 1, 0, 2, 6, 9, 8, 5, 2, 3, 1, 0, 2, 6, 10, 8, 9, 8, 5, 2, 4]\n",
            "[4, 2, 6, 7, 3, 1, 2, 4, 2, 6, 2, 3, 1, 3, 7, 3, 1, 3, 7, 3, 7, 6, 2, 1, 3, 7, 6, 2, 0, 1, 2, 1, 0, 1, 3, 7, 3, 7, 3, 7, 6, 7, 3, 2, 4, 2, 6, 10, 6, 7, 6, 9, 6, 7, 3, 2, 6, 7, 3, 2, 3]\n",
            "[3, 7, 3, 7, 6, 10, 6, 2, 3, 2, 1, 2, 5, 2, 6, 7, 3, 7, 3, 7, 3, 1, 3, 1, 3, 1, 2, 5, 8, 5, 8, 10, 6, 7, 6, 10, 6, 10, 6, 10, 8, 10, 6, 2, 1, 0, 1, 0, 1, 3, 7, 6, 10, 6, 10, 6, 10, 6, 2, 5, 2]\n",
            "0\n",
            "0\n",
            "0\n",
            "0\n",
            "0\n",
            "0\n",
            "0\n",
            "0\n",
            "0\n",
            "0\n",
            "0\n",
            "0\n",
            "0\n",
            "0\n",
            "0\n",
            "0\n"
          ]
        }
      ]
    },
    {
      "cell_type": "code",
      "source": [
        "city_no = len(adjList)-1\n",
        "pop_size = 40\n",
        "gen_size = 60\n",
        "epochs =200\n",
        "200\n",
        "elitism_coef = 2\n",
        "\n",
        "while True:\n",
        "    pop = FG(pop_size, gen_size)\n",
        "    for i in tqdm(range(epochs)):\n",
        "        pop = NG(pop, pop_size, elitism_coef)\n",
        "\n",
        "    pop.sort(key = fitness, reverse = True)\n",
        "    fit = pop_fitness(pop)\n",
        "    if cities(pop)[0] == 12:\n",
        "        break\n",
        "\n",
        "print(solution(pop[0]))\n",
        "print(cities(pop)[0])\n",
        "print(fitness(pop[0]))"
      ],
      "metadata": {
        "colab": {
          "base_uri": "https://localhost:8080/"
        },
        "id": "BjwTcKy9zzGh",
        "outputId": "414a5ea8-9dc9-4f4b-9114-a64d56174a4f"
      },
      "execution_count": 32,
      "outputs": [
        {
          "output_type": "stream",
          "name": "stderr",
          "text": [
            "100%|██████████| 200/200 [00:01<00:00, 112.33it/s]\n",
            "100%|██████████| 200/200 [00:00<00:00, 479.13it/s]"
          ]
        },
        {
          "output_type": "stream",
          "name": "stdout",
          "text": [
            "Roma -> Milan -> Frankfurt -> Paris -> London -> Paris -> Lyon -> Barcelona -> Madrid -> Paris -> Madrid -> Barcelona -> Paris -> Frankfurt -> Berlin -> Amsterdam -> Cologne -> Amsterdam -> Brussels\n",
            "12\n",
            "3600\n"
          ]
        },
        {
          "output_type": "stream",
          "name": "stderr",
          "text": [
            "\n"
          ]
        }
      ]
    },
    {
      "cell_type": "code",
      "source": [
        "for gene in pop:\n",
        "    print(gene)"
      ],
      "metadata": {
        "colab": {
          "base_uri": "https://localhost:8080/"
        },
        "id": "mVbvZgyozzRV",
        "outputId": "898bb106-9dbc-4cb2-bf93-550519884332"
      },
      "execution_count": 33,
      "outputs": [
        {
          "output_type": "stream",
          "name": "stdout",
          "text": [
            "[11, 7, 6, 2, 4, 2, 3, 1, 0, 2, 0, 1, 2, 6, 10, 8, 9, 8, 5]\n",
            "[11, 7, 6, 2, 4, 2, 3, 1, 0, 2, 0, 1, 2, 6, 10, 8, 9, 8, 5]\n",
            "[11, 7, 6, 2, 4, 2, 3, 1, 0, 2, 0, 1, 2, 6, 10, 8, 9, 8, 5]\n",
            "[11, 7, 6, 2, 4, 2, 3, 1, 0, 2, 0, 1, 2, 6, 10, 8, 9, 8, 5]\n",
            "[11, 7, 6, 2, 4, 2, 3, 1, 0, 2, 0, 1, 2, 6, 10, 8, 9, 8, 5]\n",
            "[11, 7, 6, 2, 4, 2, 3, 1, 0, 2, 0, 1, 2, 6, 10, 8, 9, 8, 5]\n",
            "[11, 7, 6, 2, 4, 2, 3, 1, 0, 2, 0, 1, 2, 6, 10, 8, 9, 8, 5]\n",
            "[11, 7, 6, 2, 4, 2, 3, 1, 0, 2, 0, 1, 2, 6, 10, 8, 9, 8, 5]\n",
            "[11, 7, 6, 2, 4, 2, 3, 1, 0, 2, 0, 1, 2, 6, 10, 8, 9, 8, 5]\n",
            "[11, 7, 6, 2, 4, 2, 3, 1, 0, 2, 0, 1, 2, 6, 10, 8, 9, 8, 5]\n",
            "[11, 7, 6, 2, 4, 2, 3, 1, 0, 2, 0, 1, 2, 6, 10, 8, 9, 8, 5]\n",
            "[11, 7, 6, 2, 4, 2, 3, 1, 0, 2, 0, 1, 2, 6, 10, 8, 9, 8, 5]\n",
            "[11, 7, 6, 2, 4, 2, 3, 1, 0, 2, 0, 1, 2, 6, 10, 8, 9, 8, 5]\n",
            "[11, 7, 6, 2, 4, 2, 3, 1, 0, 2, 0, 1, 2, 6, 10, 8, 9, 8, 5]\n",
            "[11, 7, 6, 2, 4, 2, 3, 1, 0, 2, 0, 1, 2, 6, 10, 8, 9, 8, 5]\n",
            "[11, 7, 6, 2, 4, 2, 3, 1, 0, 2, 0, 1, 2, 6, 10, 8, 9, 8, 5]\n",
            "[11, 7, 6, 2, 4, 2, 3, 1, 0, 2, 0, 1, 2, 6, 10, 8, 9, 8, 5]\n",
            "[11, 7, 6, 2, 4, 2, 3, 1, 0, 2, 0, 1, 2, 6, 10, 8, 9, 8, 5]\n",
            "[11, 7, 6, 2, 4, 2, 3, 1, 0, 2, 0, 1, 2, 6, 10, 8, 9, 8, 5]\n",
            "[11, 7, 6, 2, 4, 2, 3, 1, 0, 2, 0, 1, 2, 6, 10, 8, 9, 8, 5]\n",
            "[11, 7, 6, 2, 4, 2, 3, 1, 0, 2, 0, 1, 2, 6, 10, 8, 9, 8, 5]\n",
            "[11, 7, 6, 2, 4, 2, 3, 1, 0, 2, 0, 1, 2, 6, 10, 8, 9, 8, 5]\n",
            "[11, 7, 6, 2, 4, 2, 3, 1, 0, 2, 0, 1, 2, 6, 10, 8, 9, 8, 5]\n",
            "[11, 7, 6, 2, 4, 2, 3, 1, 0, 2, 0, 1, 2, 6, 10, 8, 9, 8, 5]\n",
            "[11, 7, 6, 2, 4, 2, 3, 1, 0, 2, 0, 1, 2, 6, 10, 8, 9, 8, 5]\n",
            "[11, 7, 6, 2, 4, 2, 3, 1, 0, 2, 0, 1, 2, 6, 10, 8, 9, 8, 5]\n",
            "[11, 7, 6, 2, 4, 2, 3, 1, 0, 2, 0, 1, 2, 6, 10, 8, 9, 8, 5]\n",
            "[11, 7, 6, 2, 4, 2, 3, 1, 0, 2, 0, 1, 2, 6, 10, 8, 9, 8, 5]\n",
            "[11, 7, 6, 2, 4, 2, 3, 1, 0, 2, 0, 1, 2, 6, 10, 8, 9, 8, 5]\n",
            "[11, 7, 6, 2, 4, 2, 3, 1, 0, 2, 0, 1, 2, 6, 10, 8, 9, 8, 5]\n",
            "[11, 7, 6, 2, 4, 2, 3, 1, 0, 2, 0, 1, 2, 6, 10, 8, 9, 8, 5]\n",
            "[11, 7, 6, 2, 4, 2, 3, 1, 0, 2, 0, 1, 2, 6, 10, 8, 9, 8, 5]\n",
            "[11, 7, 6, 2, 4, 2, 3, 1, 0, 2, 0, 1, 2, 6, 10, 8, 9, 8, 5]\n",
            "[11, 7, 6, 2, 4, 2, 3, 1, 0, 2, 0, 1, 2, 6, 10, 8, 9, 8, 5]\n",
            "[11, 7, 6, 2, 4, 2, 3, 1, 0, 2, 0, 1, 2, 6, 10, 8, 9, 8, 5]\n",
            "[11, 7, 6, 2, 4, 2, 3, 1, 0, 2, 0, 1, 2, 6, 10, 8, 9, 8, 5]\n",
            "[11, 7, 6, 2, 4, 2, 3, 1, 0, 2, 0, 1, 2, 6, 10, 8, 9, 8, 5]\n",
            "[11, 7, 6, 2, 4, 2, 3, 1, 0, 2, 0, 1, 2, 6, 10, 8, 9, 8, 5]\n",
            "[11, 7, 6, 2, 4, 2, 3, 1, 0, 2, 0, 1, 2, 6, 10, 8, 9, 8, 5]\n",
            "[11, 7, 6, 2, 4, 2, 3, 1, 0, 2, 0, 1, 2, 6, 10, 8, 9, 8, 5]\n"
          ]
        }
      ]
    }
  ]
}