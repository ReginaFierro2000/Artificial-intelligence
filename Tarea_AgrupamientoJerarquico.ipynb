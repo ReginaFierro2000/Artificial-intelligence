{
  "nbformat": 4,
  "nbformat_minor": 0,
  "metadata": {
    "colab": {
      "provenance": [],
      "authorship_tag": "ABX9TyNw96isbrcYlWHdmBNyYfJt",
      "include_colab_link": true
    },
    "kernelspec": {
      "name": "python3",
      "display_name": "Python 3"
    },
    "language_info": {
      "name": "python"
    }
  },
  "cells": [
    {
      "cell_type": "markdown",
      "metadata": {
        "id": "view-in-github",
        "colab_type": "text"
      },
      "source": [
        "<a href=\"https://colab.research.google.com/github/ReginaFierro2000/Artificial-intelligence/blob/main/Tarea_AgrupamientoJerarquico.ipynb\" target=\"_parent\"><img src=\"https://colab.research.google.com/assets/colab-badge.svg\" alt=\"Open In Colab\"/></a>"
      ]
    },
    {
      "cell_type": "code",
      "execution_count": 1,
      "metadata": {
        "id": "kZx5xZTMVIf1"
      },
      "outputs": [],
      "source": [
        "import numpy as np\n",
        "from sklearn.cluster import SpectralClustering, KMeans\n",
        "from sklearn import metrics\n",
        "import pandas as pd\n",
        "from sklearn.metrics import pairwise_distances\n",
        "from matplotlib import pyplot as plt\n",
        "import networkx as nx\n",
        "import seaborn as sns\n",
        "sns.set()\n"
      ]
    },
    {
      "cell_type": "markdown",
      "source": [
        "https://www.kaggle.com/code/vipulgandhi/spectral-clustering-detailed-explanation\n",
        "https://www.grapheverywhere.com/algoritmos-de-similaridad/\n",
        "\n",
        "https://www.cienciadedatos.net/documentos/pygml01-introduccion-grafos-redes-python.html"
      ],
      "metadata": {
        "id": "evbpknAObFB1"
      }
    },
    {
      "cell_type": "markdown",
      "source": [
        "Creé una base de datos con los artistas, pero la base de datos unicamente tiene numeros enteros, sustituyendo cada nombre de los artistas por un número sin afectar la relación entre cada uno de ellos."
      ],
      "metadata": {
        "id": "GHf_TK8kxOzh"
      }
    },
    {
      "cell_type": "code",
      "source": [
        "from urllib.request import AbstractDigestAuthHandler\n",
        "art = [1,1,1,1,1,1,1,1,1,2,2,2,2,2,2,3,3,3,3,3,3,4,4,4,4,4,4,4]\n",
        "col = [8,9,10,7,11,12,2,13,14,6,15,16,17,18,19,5,6,7,20,21,4,22,23,5,24,25,26,27]\n",
        "numero = [1,2,3,4,5,6,7,8,9,10,11,12,13,14,15,16,17,18,19,20,21,22,23,24,25,26,27,28]\n",
        "\n",
        "df_ = pd.DataFrame()\n",
        "df_['numero'] = numero\n",
        "df_['artista'] = art\n",
        "df_['colaboradores'] = col\n",
        "#df_\n",
        "#df.count()"
      ],
      "metadata": {
        "id": "oYT-YSF3VP0q"
      },
      "execution_count": 2,
      "outputs": []
    },
    {
      "cell_type": "markdown",
      "source": [
        "##Agrupamiento Jerárquico con distancia euclidiana\n"
      ],
      "metadata": {
        "id": "F8MS_jno6fK8"
      }
    },
    {
      "cell_type": "code",
      "source": [
        "import scipy.cluster.hierarchy as shc\n",
        "import matplotlib.pyplot as plt\n",
        "\n",
        "#https://www.kaggle.com/code/hiramfoster/hierarchical-clustering-with-dendrograms\n",
        "plt.figure(figsize=(10, 7))\n",
        "plt.title(\"Customers Dendrogram\")\n",
        "# Selecting Annual Income and Spending Scores by index\n",
        "selected_data = df_.iloc[:, 1:3]\n",
        "clusters = shc.linkage(selected_data, \n",
        "            method='ward', \n",
        "            metric=\"euclidean\") # distancia euclidiana\n",
        "shc.dendrogram(Z=clusters)\n",
        "plt.show()"
      ],
      "metadata": {
        "colab": {
          "base_uri": "https://localhost:8080/",
          "height": 453
        },
        "id": "wYV86oNgVP4H",
        "outputId": "6f39db4a-89b9-48c1-f429-6f76ed603cfd"
      },
      "execution_count": 3,
      "outputs": [
        {
          "output_type": "display_data",
          "data": {
            "text/plain": [
              "<Figure size 720x504 with 1 Axes>"
            ],
            "image/png": "[encoded data removed]"
          },
          "metadata": {}
        }
      ]
    },
    {
      "cell_type": "markdown",
      "source": [
        "##Agrupamiento Jerárquico con Similitud de coseno"
      ],
      "metadata": {
        "id": "YReIUmNO60O_"
      }
    },
    {
      "cell_type": "code",
      "source": [
        "import numpy as np\n",
        "import pandas as pd\n",
        "from scipy.spatial.distance import pdist\n",
        "from scipy.cluster.hierarchy import linkage, dendrogram"
      ],
      "metadata": {
        "id": "RtHu0pgCWQIp"
      },
      "execution_count": 4,
      "outputs": []
    },
    {
      "cell_type": "code",
      "source": [
        "#Extract the features you want to cluster on and convert them to a numpy array:\n",
        "features = df_.iloc[:,1:].values"
      ],
      "metadata": {
        "id": "9bKrhR6CX7Jv"
      },
      "execution_count": 5,
      "outputs": []
    },
    {
      "cell_type": "code",
      "source": [
        "# Calculate cosine similarity matrix\n",
        "distances = pdist(features, metric='cosine')\n",
        "\n",
        "# Perform hierarchical clustering\n",
        "linked = linkage(distances, method='complete')"
      ],
      "metadata": {
        "id": "I4U-kgXS4T0L"
      },
      "execution_count": 6,
      "outputs": []
    },
    {
      "cell_type": "code",
      "source": [
        "dendrogram(linked, orientation='top', distance_sort='descending', show_leaf_counts=True)"
      ],
      "metadata": {
        "colab": {
          "base_uri": "https://localhost:8080/",
          "height": 1000
        },
        "id": "RdRYGGpo4MLP",
        "outputId": "1b64cdda-d3e1-41e8-db9b-9880e2d0664b"
      },
      "execution_count": 7,
      "outputs": [
        {
          "output_type": "execute_result",
          "data": {
            "text/plain": [
              "{'icoord': [[5.0, 5.0, 15.0, 15.0],\n",
              "  [10.0, 10.0, 25.0, 25.0],\n",
              "  [17.5, 17.5, 35.0, 35.0],\n",
              "  [45.0, 45.0, 55.0, 55.0],\n",
              "  [50.0, 50.0, 65.0, 65.0],\n",
              "  [26.25, 26.25, 57.5, 57.5],\n",
              "  [75.0, 75.0, 85.0, 85.0],\n",
              "  [80.0, 80.0, 95.0, 95.0],\n",
              "  [105.0, 105.0, 115.0, 115.0],\n",
              "  [87.5, 87.5, 110.0, 110.0],\n",
              "  [125.0, 125.0, 135.0, 135.0],\n",
              "  [130.0, 130.0, 145.0, 145.0],\n",
              "  [98.75, 98.75, 137.5, 137.5],\n",
              "  [155.0, 155.0, 165.0, 165.0],\n",
              "  [175.0, 175.0, 185.0, 185.0],\n",
              "  [160.0, 160.0, 180.0, 180.0],\n",
              "  [118.125, 118.125, 170.0, 170.0],\n",
              "  [195.0, 195.0, 205.0, 205.0],\n",
              "  [215.0, 215.0, 225.0, 225.0],\n",
              "  [200.0, 200.0, 220.0, 220.0],\n",
              "  [235.0, 235.0, 245.0, 245.0],\n",
              "  [240.0, 240.0, 255.0, 255.0],\n",
              "  [265.0, 265.0, 275.0, 275.0],\n",
              "  [247.5, 247.5, 270.0, 270.0],\n",
              "  [210.0, 210.0, 258.75, 258.75],\n",
              "  [144.0625, 144.0625, 234.375, 234.375],\n",
              "  [41.875, 41.875, 189.21875, 189.21875]],\n",
              " 'dcoord': [[0.0, 1.1102230246251565e-16, 1.1102230246251565e-16, 0.0],\n",
              "  [1.1102230246251565e-16, 0.0017256268250042117, 0.0017256268250042117, 0.0],\n",
              "  [0.0017256268250042117, 0.010050506338833642, 0.010050506338833642, 0.0],\n",
              "  [0.0, 0.0004879239129211843, 0.0004879239129211843, 0.0],\n",
              "  [0.0004879239129211843, 0.009007569589676745, 0.009007569589676745, 0.0],\n",
              "  [0.010050506338833642,\n",
              "   0.061656883182889866,\n",
              "   0.061656883182889866,\n",
              "   0.009007569589676745],\n",
              "  [0.0, 1.6409327391331274e-06, 1.6409327391331274e-06, 0.0],\n",
              "  [1.6409327391331274e-06,\n",
              "   1.5517829987543585e-05,\n",
              "   1.5517829987543585e-05,\n",
              "   0.0],\n",
              "  [0.0, 0.0, 0.0, 0.0],\n",
              "  [1.5517829987543585e-05, 5.780513892528205e-05, 5.780513892528205e-05, 0.0],\n",
              "  [0.0, 0.0, 0.0, 0.0],\n",
              "  [0.0, 3.359142747716426e-05, 3.359142747716426e-05, 0.0],\n",
              "  [5.780513892528205e-05,\n",
              "   0.0004002579600425049,\n",
              "   0.0004002579600425049,\n",
              "   3.359142747716426e-05],\n",
              "  [0.0, 2.9358229117981693e-05, 2.9358229117981693e-05, 0.0],\n",
              "  [0.0, 2.1082146586470785e-05, 2.1082146586470785e-05, 0.0],\n",
              "  [2.9358229117981693e-05,\n",
              "   0.00022467422521332825,\n",
              "   0.00022467422521332825,\n",
              "   2.1082146586470785e-05],\n",
              "  [0.0004002579600425049,\n",
              "   0.0015396467945875125,\n",
              "   0.0015396467945875125,\n",
              "   0.00022467422521332825],\n",
              "  [0.0, 2.826495570051879e-05, 2.826495570051879e-05, 0.0],\n",
              "  [0.0, 1.492994125151803e-05, 1.492994125151803e-05, 0.0],\n",
              "  [2.826495570051879e-05,\n",
              "   0.00018725228247828962,\n",
              "   0.00018725228247828962,\n",
              "   1.492994125151803e-05],\n",
              "  [0.0, 2.220446049250313e-16, 2.220446049250313e-16, 0.0],\n",
              "  [2.220446049250313e-16, 2.0811004861731597e-05, 2.0811004861731597e-05, 0.0],\n",
              "  [0.0, 1.3563092114310393e-05, 1.3563092114310393e-05, 0.0],\n",
              "  [2.0811004861731597e-05,\n",
              "   0.00015207455120325175,\n",
              "   0.00015207455120325175,\n",
              "   1.3563092114310393e-05],\n",
              "  [0.00018725228247828962,\n",
              "   0.0010486952699110264,\n",
              "   0.0010486952699110264,\n",
              "   0.00015207455120325175],\n",
              "  [0.0015396467945875125,\n",
              "   0.005885338911620797,\n",
              "   0.005885338911620797,\n",
              "   0.0010486952699110264],\n",
              "  [0.061656883182889866,\n",
              "   0.17660793331427138,\n",
              "   0.17660793331427138,\n",
              "   0.005885338911620797]],\n",
              " 'ivl': ['16',\n",
              "  '6',\n",
              "  '17',\n",
              "  '9',\n",
              "  '23',\n",
              "  '20',\n",
              "  '15',\n",
              "  '27',\n",
              "  '18',\n",
              "  '26',\n",
              "  '19',\n",
              "  '3',\n",
              "  '11',\n",
              "  '0',\n",
              "  '10',\n",
              "  '22',\n",
              "  '21',\n",
              "  '25',\n",
              "  '24',\n",
              "  '5',\n",
              "  '4',\n",
              "  '8',\n",
              "  '7',\n",
              "  '13',\n",
              "  '1',\n",
              "  '12',\n",
              "  '14',\n",
              "  '2'],\n",
              " 'leaves': [16,\n",
              "  6,\n",
              "  17,\n",
              "  9,\n",
              "  23,\n",
              "  20,\n",
              "  15,\n",
              "  27,\n",
              "  18,\n",
              "  26,\n",
              "  19,\n",
              "  3,\n",
              "  11,\n",
              "  0,\n",
              "  10,\n",
              "  22,\n",
              "  21,\n",
              "  25,\n",
              "  24,\n",
              "  5,\n",
              "  4,\n",
              "  8,\n",
              "  7,\n",
              "  13,\n",
              "  1,\n",
              "  12,\n",
              "  14,\n",
              "  2],\n",
              " 'color_list': ['C1',\n",
              "  'C1',\n",
              "  'C1',\n",
              "  'C1',\n",
              "  'C1',\n",
              "  'C1',\n",
              "  'C2',\n",
              "  'C2',\n",
              "  'C2',\n",
              "  'C2',\n",
              "  'C2',\n",
              "  'C2',\n",
              "  'C2',\n",
              "  'C2',\n",
              "  'C2',\n",
              "  'C2',\n",
              "  'C2',\n",
              "  'C2',\n",
              "  'C2',\n",
              "  'C2',\n",
              "  'C2',\n",
              "  'C2',\n",
              "  'C2',\n",
              "  'C2',\n",
              "  'C2',\n",
              "  'C2',\n",
              "  'C0'],\n",
              " 'leaves_color_list': ['C1',\n",
              "  'C1',\n",
              "  'C1',\n",
              "  'C1',\n",
              "  'C1',\n",
              "  'C1',\n",
              "  'C1',\n",
              "  'C2',\n",
              "  'C2',\n",
              "  'C2',\n",
              "  'C2',\n",
              "  'C2',\n",
              "  'C2',\n",
              "  'C2',\n",
              "  'C2',\n",
              "  'C2',\n",
              "  'C2',\n",
              "  'C2',\n",
              "  'C2',\n",
              "  'C2',\n",
              "  'C2',\n",
              "  'C2',\n",
              "  'C2',\n",
              "  'C2',\n",
              "  'C2',\n",
              "  'C2',\n",
              "  'C2',\n",
              "  'C2']}"
            ]
          },
          "metadata": {},
          "execution_count": 7
        },
        {
          "output_type": "display_data",
          "data": {
            "text/plain": [
              "<Figure size 432x288 with 1 Axes>"
            ],
            "image/png": "[encoded data removed]"
          },
          "metadata": {}
        }
      ]
    },
    {
      "cell_type": "code",
      "source": [
        "import scipy.cluster.hierarchy as shc\n",
        "import matplotlib.pyplot as plt\n",
        "\n",
        "plt.figure(figsize=(10, 4))\n",
        "plt.title(\"Customers Dendrogram\")\n",
        "# Selecting Annual Income and Spending Scores by index\n",
        "selected_data = df_.iloc[:,1]\n",
        "clusters = shc.linkage(features, \n",
        "            method='complete', \n",
        "            metric=\"cosine\") # distancia euclidiana\n",
        "shc.dendrogram(Z=clusters)\n",
        "plt.show()"
      ],
      "metadata": {
        "colab": {
          "base_uri": "https://localhost:8080/",
          "height": 290
        },
        "id": "r9VzqWDHy4fs",
        "outputId": "2cb250fb-158d-4b39-e7fa-499721fc332b"
      },
      "execution_count": 8,
      "outputs": [
        {
          "output_type": "display_data",
          "data": {
            "text/plain": [
              "<Figure size 720x288 with 1 Axes>"
            ],
            "image/png": "[encoded data removed]"
          },
          "metadata": {}
        }
      ]
    },
    {
      "cell_type": "markdown",
      "source": [
        "##Agrupamiento Jerárquico con coeficientes de correlación"
      ],
      "metadata": {
        "id": "F0x0dqvz7J3p"
      }
    },
    {
      "cell_type": "code",
      "source": [
        "g = nx.Graph()\n",
        " \n",
        "g.add_edge(\"Pitbull\" ,\"Fergie\") #\"Pitbull\" ,\"Fergie\"\n",
        "g.add_edge(\"Pitbull\" ,\"Chris Brown\") #\"Pitbull\" ,\"Chris Brown\"\n",
        "g.add_edge(\"Pitbull\", \"Jeancarlos\") #\"Pitbull\", \"Jeancarlos\"\n",
        "g.add_edge(\"Pitbull\" ,\"Marc Anthony\") #\"Pitbull\" ,\"Marc Anthony\"\n",
        "g.add_edge(\"Pitbull\" , \"Shakira\") #\"Pitbull\" , \"Shakira\"\n",
        "g.add_edge(\"Pitbull\" , \"Pharrell Williams\") #\"Pitbull\" , \"Pharrell Williams\"\n",
        "g.add_edge(\"Pitbull\" , \"Enrique Iglesias\") #\"Pitbull\" , \"Enrique Iglesias\"\n",
        "g.add_edge(\"Pitbull\" , \"Ne-Yo\") #\"Pitbull\" , \"Ne-Yo\"\n",
        "g.add_edge(\"Pitbull\" , \"Christina Aguilera\") #\"Pitbull\" , \"Christina Aguilera\"\n",
        "\n",
        "g.add_edge(\"Enrique Iglesias\" , \"Ricky Martin\") #\"Enrique Iglesias\" , \"Ricky Martin\"\n",
        "g.add_edge(\"Enrique Iglesias\" , \" Sebastián Yatra \") #\"Enrique Iglesias\" , \" Sebastián Yatra \"\n",
        "g.add_edge(\"Enrique Iglesias\" , \"Andrea Bocelli\") #\"Enrique Iglesias\" , \"Andrea Bocelli\n",
        "g.add_edge(\"Enrique Iglesias\",\"Britney Spears\") #\"Enrique Iglesias\",\"Britney Spears\"\n",
        "g.add_edge(\"Enrique Iglesias\" , \"Beyoncé\") #\"Enrique Iglesias\" , \"Beyoncé\"\n",
        "g.add_edge(\"Enrique Iglesias\",\"Pink\") #\"Enrique Iglesias\",\"Pink\"\n",
        "\n",
        "g.add_edge(\"Thalía\", \"Maluma\") #\"Thalía\", \"Maluma\"\n",
        "g.add_edge(\"Thalía\" , \"Ricky Martin\") #\"Thalía\" , \"Ricky Martin\"\n",
        "g.add_edge(\"Thalía\", \"Marc Anthony\") #\"Thalía\", \"Marc Anthony\"\n",
        "g.add_edge(\"Thalía\", \"Becky G\") #\"Thalía\", \"Becky G\"\n",
        "g.add_edge(\"Thalía\",\"Gente de Zona\") #\"Thalía\",\"Gente de Zona\"\n",
        "g.add_edge(\"Thalía\",\"Reik\") #\"Thalía\",\"Reik\"\n",
        "\n",
        "g.add_edge(\"Reik\", \"Ha*Ash\") #\"Reik\", \"Ha*Ash\"\n",
        "g.add_edge(\"Reik\", \"Sin Bandera\") #\"Reik\", \"Sin Bandera\"\n",
        "g.add_edge(\"Reik\", \"Maluma\") #\"Reik\", \"Maluma\"\n",
        "g.add_edge(\"Reik\", \"Ozuna\") #\"Reik\", \"Ozuna\"\n",
        "g.add_edge(\"Reik\",\"Wisin\") #\"Reik\",\"Wisin\"\n",
        "g.add_edge(\"Reik\", \"Super Junior\") #\"Reik\", \"Super Junior\"\n",
        "g.add_edge(\"Reik\", \"Wisin & Yandel\") #\"Reik\", \"Wisin & Yandel\""
      ],
      "metadata": {
        "id": "KB49H5JQ-Lxb"
      },
      "execution_count": 9,
      "outputs": []
    },
    {
      "cell_type": "code",
      "source": [
        "#drawing in spectral layout\n",
        "nx.draw_spring(g, with_labels = True)\n",
        "plt.savefig(\"Grafo.png\")"
      ],
      "metadata": {
        "colab": {
          "base_uri": "https://localhost:8080/",
          "height": 319
        },
        "id": "ueSBGOQJD4hI",
        "outputId": "714a45b0-ac78-461b-e6e1-bfaf36c779f8"
      },
      "execution_count": 10,
      "outputs": [
        {
          "output_type": "display_data",
          "data": {
            "text/plain": [
              "<Figure size 432x288 with 1 Axes>"
            ],
            "image/png": "[encoded data removed]"
          },
          "metadata": {}
        }
      ]
    },
    {
      "cell_type": "code",
      "source": [
        "print(g)\n",
        "adjM = nx.adjacency_matrix(g)\n",
        "\n",
        "# Se convierte la matriz de formato sparse a dense para poder imprimirla\n",
        "#adjM = adjM.todense()\n",
        "#adjM\n",
        "adjM = nx.adjacency_matrix(g).todense()\n",
        "adjM"
      ],
      "metadata": {
        "colab": {
          "base_uri": "https://localhost:8080/"
        },
        "id": "HDQJbPoL_SYa",
        "outputId": "5e9559cb-3650-4b1a-eb0f-775d1f77b38c"
      },
      "execution_count": 11,
      "outputs": [
        {
          "output_type": "stream",
          "name": "stdout",
          "text": [
            "Graph with 27 nodes and 28 edges\n"
          ]
        },
        {
          "output_type": "execute_result",
          "data": {
            "text/plain": [
              "array([[0, 1, 1, 1, 1, 1, 1, 1, 1, 1, 0, 0, 0, 0, 0, 0, 0, 0, 0, 0, 0, 0,\n",
              "        0, 0, 0, 0, 0],\n",
              "       [1, 0, 0, 0, 0, 0, 0, 0, 0, 0, 0, 0, 0, 0, 0, 0, 0, 0, 0, 0, 0, 0,\n",
              "        0, 0, 0, 0, 0],\n",
              "       [1, 0, 0, 0, 0, 0, 0, 0, 0, 0, 0, 0, 0, 0, 0, 0, 0, 0, 0, 0, 0, 0,\n",
              "        0, 0, 0, 0, 0],\n",
              "       [1, 0, 0, 0, 0, 0, 0, 0, 0, 0, 0, 0, 0, 0, 0, 0, 0, 0, 0, 0, 0, 0,\n",
              "        0, 0, 0, 0, 0],\n",
              "       [1, 0, 0, 0, 0, 0, 0, 0, 0, 0, 0, 0, 0, 0, 0, 0, 1, 0, 0, 0, 0, 0,\n",
              "        0, 0, 0, 0, 0],\n",
              "       [1, 0, 0, 0, 0, 0, 0, 0, 0, 0, 0, 0, 0, 0, 0, 0, 0, 0, 0, 0, 0, 0,\n",
              "        0, 0, 0, 0, 0],\n",
              "       [1, 0, 0, 0, 0, 0, 0, 0, 0, 0, 0, 0, 0, 0, 0, 0, 0, 0, 0, 0, 0, 0,\n",
              "        0, 0, 0, 0, 0],\n",
              "       [1, 0, 0, 0, 0, 0, 0, 0, 0, 0, 1, 1, 1, 1, 1, 1, 0, 0, 0, 0, 0, 0,\n",
              "        0, 0, 0, 0, 0],\n",
              "       [1, 0, 0, 0, 0, 0, 0, 0, 0, 0, 0, 0, 0, 0, 0, 0, 0, 0, 0, 0, 0, 0,\n",
              "        0, 0, 0, 0, 0],\n",
              "       [1, 0, 0, 0, 0, 0, 0, 0, 0, 0, 0, 0, 0, 0, 0, 0, 0, 0, 0, 0, 0, 0,\n",
              "        0, 0, 0, 0, 0],\n",
              "       [0, 0, 0, 0, 0, 0, 0, 1, 0, 0, 0, 0, 0, 0, 0, 0, 1, 0, 0, 0, 0, 0,\n",
              "        0, 0, 0, 0, 0],\n",
              "       [0, 0, 0, 0, 0, 0, 0, 1, 0, 0, 0, 0, 0, 0, 0, 0, 0, 0, 0, 0, 0, 0,\n",
              "        0, 0, 0, 0, 0],\n",
              "       [0, 0, 0, 0, 0, 0, 0, 1, 0, 0, 0, 0, 0, 0, 0, 0, 0, 0, 0, 0, 0, 0,\n",
              "        0, 0, 0, 0, 0],\n",
              "       [0, 0, 0, 0, 0, 0, 0, 1, 0, 0, 0, 0, 0, 0, 0, 0, 0, 0, 0, 0, 0, 0,\n",
              "        0, 0, 0, 0, 0],\n",
              "       [0, 0, 0, 0, 0, 0, 0, 1, 0, 0, 0, 0, 0, 0, 0, 0, 0, 0, 0, 0, 0, 0,\n",
              "        0, 0, 0, 0, 0],\n",
              "       [0, 0, 0, 0, 0, 0, 0, 1, 0, 0, 0, 0, 0, 0, 0, 0, 0, 0, 0, 0, 0, 0,\n",
              "        0, 0, 0, 0, 0],\n",
              "       [0, 0, 0, 0, 1, 0, 0, 0, 0, 0, 1, 0, 0, 0, 0, 0, 0, 1, 1, 1, 1, 0,\n",
              "        0, 0, 0, 0, 0],\n",
              "       [0, 0, 0, 0, 0, 0, 0, 0, 0, 0, 0, 0, 0, 0, 0, 0, 1, 0, 0, 0, 1, 0,\n",
              "        0, 0, 0, 0, 0],\n",
              "       [0, 0, 0, 0, 0, 0, 0, 0, 0, 0, 0, 0, 0, 0, 0, 0, 1, 0, 0, 0, 0, 0,\n",
              "        0, 0, 0, 0, 0],\n",
              "       [0, 0, 0, 0, 0, 0, 0, 0, 0, 0, 0, 0, 0, 0, 0, 0, 1, 0, 0, 0, 0, 0,\n",
              "        0, 0, 0, 0, 0],\n",
              "       [0, 0, 0, 0, 0, 0, 0, 0, 0, 0, 0, 0, 0, 0, 0, 0, 1, 1, 0, 0, 0, 1,\n",
              "        1, 1, 1, 1, 1],\n",
              "       [0, 0, 0, 0, 0, 0, 0, 0, 0, 0, 0, 0, 0, 0, 0, 0, 0, 0, 0, 0, 1, 0,\n",
              "        0, 0, 0, 0, 0],\n",
              "       [0, 0, 0, 0, 0, 0, 0, 0, 0, 0, 0, 0, 0, 0, 0, 0, 0, 0, 0, 0, 1, 0,\n",
              "        0, 0, 0, 0, 0],\n",
              "       [0, 0, 0, 0, 0, 0, 0, 0, 0, 0, 0, 0, 0, 0, 0, 0, 0, 0, 0, 0, 1, 0,\n",
              "        0, 0, 0, 0, 0],\n",
              "       [0, 0, 0, 0, 0, 0, 0, 0, 0, 0, 0, 0, 0, 0, 0, 0, 0, 0, 0, 0, 1, 0,\n",
              "        0, 0, 0, 0, 0],\n",
              "       [0, 0, 0, 0, 0, 0, 0, 0, 0, 0, 0, 0, 0, 0, 0, 0, 0, 0, 0, 0, 1, 0,\n",
              "        0, 0, 0, 0, 0],\n",
              "       [0, 0, 0, 0, 0, 0, 0, 0, 0, 0, 0, 0, 0, 0, 0, 0, 0, 0, 0, 0, 1, 0,\n",
              "        0, 0, 0, 0, 0]])"
            ]
          },
          "metadata": {},
          "execution_count": 11
        }
      ]
    },
    {
      "cell_type": "code",
      "source": [
        "import scipy.cluster.hierarchy as shc\n",
        "import matplotlib.pyplot as plt\n",
        "\n",
        "plt.figure(figsize=(10, 4))\n",
        "plt.title(\"Customers Dendrogram\")\n",
        "# Selecting Annual Income and Spending Scores by index\n",
        "selected_data = adjM#.iloc[:,1]\n",
        "clusters = shc.linkage(features, \n",
        "            method='complete', \n",
        "            metric=\"correlation\") # distancia de correlación\n",
        "shc.dendrogram(Z=clusters)\n",
        "plt.show()"
      ],
      "metadata": {
        "colab": {
          "base_uri": "https://localhost:8080/",
          "height": 290
        },
        "id": "HXtCf1N85ndy",
        "outputId": "83869cca-4080-48a2-860d-d74342ca4bd2"
      },
      "execution_count": null,
      "outputs": [
        {
          "output_type": "display_data",
          "data": {
            "text/plain": [
              "<Figure size 720x288 with 1 Axes>"
            ],
            "image/png": "[encoded data removed]"
          },
          "metadata": {}
        }
      ]
    },
    {
      "cell_type": "markdown",
      "source": [
        "## Nuevo grafo"
      ],
      "metadata": {
        "id": "LpqZe5JADwgK"
      }
    },
    {
      "cell_type": "code",
      "source": [
        "import csv\n",
        "from operator import itemgetter\n",
        "import networkx as nx\n",
        "from networkx.algorithms import community #This part of networkx, for community detection, needs to be imported separately."
      ],
      "metadata": {
        "id": "WXWm3J2xHLXD"
      },
      "execution_count": null,
      "outputs": []
    },
    {
      "cell_type": "code",
      "source": [
        "import pandas as pd\n",
        "\n",
        "df3 = pd.read_csv('/content/quakers_edgelist_1.csv')\n",
        "print(df3)"
      ],
      "metadata": {
        "colab": {
          "base_uri": "https://localhost:8080/"
        },
        "id": "K9EyxI92HxzD",
        "outputId": "8a023cc0-2f3b-4273-e151-e6893fae01b9"
      },
      "execution_count": null,
      "outputs": [
        {
          "output_type": "stream",
          "name": "stdout",
          "text": [
            "             Source                                         Target\n",
            "0      George Keith                                 Robert Barclay\n",
            "1      George Keith                                 Benjamin Furly\n",
            "2      George Keith  Anne Conway Viscountess Conway and Killultagh\n",
            "3      George Keith               Franciscus Mercurius van Helmont\n",
            "4      George Keith                                   William Penn\n",
            "..              ...                                            ...\n",
            "96   Mary Penington                                  Thomas Curtis\n",
            "97   Mary Penington                                 Thomas Ellwood\n",
            "98    Thomas Curtis                                 Thomas Ellwood\n",
            "99    Thomas Curtis                                William Simpson\n",
            "100   Thomas Curtis                                     John Story\n",
            "\n",
            "[101 rows x 2 columns]\n"
          ]
        }
      ]
    },
    {
      "cell_type": "code",
      "source": [
        "#df4 = pd.read_csv('/content/quakers_nodelist.csv')\n",
        "#print(df4)"
      ],
      "metadata": {
        "id": "m2bHN5eWJYld"
      },
      "execution_count": null,
      "outputs": []
    },
    {
      "cell_type": "code",
      "source": [
        "#df5 = pd.concat([df3, df4], axis=1)\n",
        "#df6 = df5.dropna()\n",
        "#df4.drop(['Name','Historical Significance','Gender'], axis=1)"
      ],
      "metadata": {
        "id": "sIlihP-wJ401"
      },
      "execution_count": null,
      "outputs": []
    },
    {
      "cell_type": "code",
      "source": [
        "#df4.columns\n",
        "#religious writer\n",
        "df3.loc[df3['Source'] == 'George Keith', 'Source'] = '1'\n",
        "df3.loc[df3['Source'] == 'James Parnel', 'Source'] = '2'\n",
        "df3.loc[df3['Source'] == 'Peter Collinson', 'Source'] = '3'\n",
        "df3.loc[df3['Source'] == 'Joseph Wyeth', 'Source'] = '4'\n",
        "df3.loc[df3['Source'] == 'Alexander Skene of Newtyle', 'Source'] = '5'\n",
        "df3.loc[df3['Source'] == 'William Dewsbury', 'Source'] = '6'\n",
        "df3.loc[df3['Source'] == 'John Audland', 'Source'] = '7'\n",
        "df3.loc[df3['Source'] == 'Francis Howgill', 'Source'] = '8'\n",
        "df3.loc[df3['Source'] == 'William Bradford', 'Source'] = '9'\n",
        "df3.loc[df3['Source'] == 'George Fox', 'Source'] = '10'\n",
        "df3.loc[df3['Source'] == 'John Stubbs', 'Source'] = '11'\n",
        "df3.loc[df3['Source'] == 'John Wilkinson', 'Source'] = '12'\n",
        "df3.loc[df3['Source'] == 'James Nayler', 'Source'] = '13'\n",
        "df3.loc[df3['Source'] == 'Anthony Sharp', 'Source'] = '14'\n",
        "df3.loc[df3['Source'] == 'Benjamin Furly', 'Source'] = '15'\n",
        "df3.loc[df3['Source'] == 'George Whitehead', 'Source'] = '16'\n",
        "df3.loc[df3['Source'] == 'Edward Burrough', 'Source'] = '17'\n",
        "df3.loc[df3['Source'] == 'Richard Farnworth', 'Source'] = '18'\n",
        "df3.loc[df3['Source'] == 'William Penn', 'Source'] = '19'\n",
        "df3.loc[df3['Source'] == 'Margaret Fell', 'Source'] = '20'\n",
        "df3.loc[df3['Source'] == 'Mary Penington', 'Source'] = '21'\n",
        "df3.loc[df3['Source'] == 'Thomas Curtis', 'Source'] = '22'\n",
        "\n",
        "df3.loc[df3['Target'] == 'TRobert Barclay', 'Target'] = '23'\n",
        "df3.loc[df3['Target'] == 'Benjamin Furly', 'Target'] = '24'\n",
        "df3.loc[df3['Target'] == 'Anne Conway Viscountess Conway and Killultagh', 'Target'] = '25'\n",
        "df3.loc[df3['Target'] == 'Franciscus Mercurius van Helmont', 'Target'] = '26'\n",
        "df3.loc[df3['Target'] == 'William Penn', 'Target'] = '27'\n",
        "df3.loc[df3['Target'] == 'George Fox', 'Target'] = '28'\n",
        "df3.loc[df3['Target'] == 'George Whitehead', 'Target'] = '29'\n",
        "df3.loc[df3['Target'] == 'William Bradford', 'Target'] = '30'\n",
        "df3.loc[df3['Target'] == 'Benjamin Furly', 'Target'] = '31'\n",
        "df3.loc[df3['Target'] == 'Stephen Crisp', 'Target'] = '32'\n",
        "df3.loc[df3['Target'] == 'John Bartram', 'Target'] = '33'\n",
        "df3.loc[df3['Target'] == 'James Logan', 'Target'] = '34'\n",
        "df3.loc[df3['Target'] == 'Lilias Skene', 'Target'] = '35'\n",
        "df3.loc[df3['Target'] == 'Edward Burrough', 'Target'] = '36'\n",
        "df3.loc[df3['Target'] == 'John Crook', 'Target'] = '37'\n",
        "df3.loc[df3['Target'] == 'John Camm', 'Target'] = '38'\n",
        "df3.loc[df3['Target'] == 'Francis Howgill', 'Target'] = '39'\n",
        "df3.loc[df3['Target'] == 'Edward Pyott', 'Target'] = '39'\n",
        "df3.loc[df3['Target'] == 'Charles Marshall', 'Target'] = '40'\n",
        "df3.loc[df3['Target'] == 'Anne Camm', 'Target'] = '41'\n",
        "df3.loc[df3['Target'] == 'Martha Simmonds', 'Target'] = '42'\n",
        "df3.loc[df3['Target'] == 'James Nayler', 'Target'] = '43'\n",
        "df3.loc[df3['Target'] == 'Edward Burrough', 'Target'] = '44'\n",
        "df3.loc[df3['Target'] == 'Richard Farnworth', 'Target'] = '45'\n",
        "df3.loc[df3['Target'] == 'William Crouch', 'Target'] = '46'\n",
        "df3.loc[df3['Target'] == 'Tace Sowle', 'Target'] = '47'\n",
        "df3.loc[df3['Target'] == 'Ellis Hookes', 'Target'] = '48'\n",
        "df3.loc[df3['Target'] == 'William Mead', 'Target'] = '49'\n",
        "df3.loc[df3['Target'] == 'Elizabeth Hooten', 'Target'] = '50'\n",
        "df3.loc[df3['Target'] == 'Margaret Fell', 'Target'] = '51'\n",
        "df3.loc[df3['Target'] == 'John Crook', 'Target'] = '52'\n",
        "df3.loc[df3['Target'] == 'George Whitehead', 'Target'] = '53'\n",
        "df3.loc[df3['Target'] == 'Benjamin Furly', 'Target'] = '54'\n",
        "df3.loc[df3['Target'] == 'Thomas Salthouse', 'Target'] = '55'\n",
        "df3.loc[df3['Target'] == 'John Wilkinson', 'Target'] = '56'\n",
        "df3.loc[df3['Target'] == 'Thomas Ellwood', 'Target'] = '57'\n",
        "df3.loc[df3['Target'] == 'William Coddington', 'Target'] = '58'\n",
        "df3.loc[df3['Target'] == 'John Stubbs', 'Target'] = '59'\n",
        "df3.loc[df3['Target'] == 'John Perrot', 'Target'] = '60'\n",
        "df3.loc[df3['Target'] == 'Leonard Fell', 'Target'] = '61'\n",
        "df3.loc[df3['Target'] == 'William Caton', 'Target'] = '62'\n",
        "df3.loc[df3['Target'] == 'Samuel Fisher', 'Target'] = '63'\n",
        "df3.loc[df3['Target'] == 'John Burnyeat', 'Target'] = '64'\n",
        "df3.loc[df3['Target'] == 'Solomon Eccles', 'Target'] = '65'\n",
        "df3.loc[df3['Target'] == 'John Story', 'Target'] = '66'\n",
        "df3.loc[df3['Target'] == 'Alexander Parker', 'Target'] = '67'\n",
        "df3.loc[df3['Target'] == 'Hannah Stranger', 'Target'] = '68'\n",
        "df3.loc[df3['Target'] == 'Gervase Benson', 'Target'] = '69'\n",
        "df3.loc[df3['Target'] == 'Margaret Fell', 'Target'] = '70'\n",
        "df3.loc[df3['Target'] == 'Robert Rich', 'Target'] = '71'\n",
        "df3.loc[df3['Target'] == 'Anthony Pearson', 'Target'] = '72'\n",
        "df3.loc[df3['Target'] == 'Rebecca Travers', 'Target'] = '73'\n",
        "df3.loc[df3['Target'] == 'William Tomlinson', 'Target'] = '74'\n",
        "df3.loc[df3['Target'] == 'Samuel Clarridge', 'Target'] = '75'\n",
        "df3.loc[df3['Target'] == 'Thomas Curtis', 'Target'] = '76'\n",
        "df3.loc[df3['Target'] == 'William Edmundson', 'Target'] = '77'\n",
        "df3.loc[df3['Target'] == 'Robert Barclay', 'Target'] = '78'\n",
        "df3.loc[df3['Target'] == 'John Whitehead', 'Target'] = '79'\n",
        "df3.loc[df3['Target'] == 'Daniel Quare', 'Target'] = '80'\n",
        "df3.loc[df3['Target'] == 'James Claypoole', 'Target'] = '81'\n",
        "df3.loc[df3['Target'] == 'Thomas Story', 'Target'] = '82'\n",
        "df3.loc[df3['Target'] == 'Mary Penington', 'Target'] = '83'\n",
        "df3.loc[df3['Target'] == 'David Lloyd', 'Target'] = '84'\n",
        "df3.loc[df3['Target'] == 'Richard Claridge', 'Target'] = '85'\n",
        "df3.loc[df3['Target'] == 'Elizabeth Leavens', 'Target'] = '86'\n",
        "df3.loc[df3['Target'] == 'William Simpson', 'Target'] = '87'\n",
        "df3.loc[df3['Target'] == 'Thomas Ellwood', 'Target'] = '88'"
      ],
      "metadata": {
        "id": "pDNchMjgQbrQ"
      },
      "execution_count": null,
      "outputs": []
    },
    {
      "cell_type": "code",
      "source": [
        "df3"
      ],
      "metadata": {
        "colab": {
          "base_uri": "https://localhost:8080/",
          "height": 424
        },
        "id": "63AkV3IvwQ1C",
        "outputId": "6544868f-fed1-4988-c47d-0035bf33f946"
      },
      "execution_count": null,
      "outputs": [
        {
          "output_type": "execute_result",
          "data": {
            "text/plain": [
              "    Source Target\n",
              "0        1     78\n",
              "1        1     24\n",
              "2        1     25\n",
              "3        1     26\n",
              "4        1     27\n",
              "..     ...    ...\n",
              "96      21     76\n",
              "97      21     57\n",
              "98      22     57\n",
              "99      22     87\n",
              "100     22     66\n",
              "\n",
              "[101 rows x 2 columns]"
            ],
            "text/html": [
              "\n",
              "  <div id=\"df-9f01f904-9da1-4145-95be-5447085e3d14\">\n",
              "    <div class=\"colab-df-container\">\n",
              "      <div>\n",
              "<style scoped>\n",
              "    .dataframe tbody tr th:only-of-type {\n",
              "        vertical-align: middle;\n",
              "    }\n",
              "\n",
              "    .dataframe tbody tr th {\n",
              "        vertical-align: top;\n",
              "    }\n",
              "\n",
              "    .dataframe thead th {\n",
              "        text-align: right;\n",
              "    }\n",
              "</style>\n",
              "<table border=\"1\" class=\"dataframe\">\n",
              "  <thead>\n",
              "    <tr style=\"text-align: right;\">\n",
              "      <th></th>\n",
              "      <th>Source</th>\n",
              "      <th>Target</th>\n",
              "    </tr>\n",
              "  </thead>\n",
              "  <tbody>\n",
              "    <tr>\n",
              "      <th>0</th>\n",
              "      <td>1</td>\n",
              "      <td>78</td>\n",
              "    </tr>\n",
              "    <tr>\n",
              "      <th>1</th>\n",
              "      <td>1</td>\n",
              "      <td>24</td>\n",
              "    </tr>\n",
              "    <tr>\n",
              "      <th>2</th>\n",
              "      <td>1</td>\n",
              "      <td>25</td>\n",
              "    </tr>\n",
              "    <tr>\n",
              "      <th>3</th>\n",
              "      <td>1</td>\n",
              "      <td>26</td>\n",
              "    </tr>\n",
              "    <tr>\n",
              "      <th>4</th>\n",
              "      <td>1</td>\n",
              "      <td>27</td>\n",
              "    </tr>\n",
              "    <tr>\n",
              "      <th>...</th>\n",
              "      <td>...</td>\n",
              "      <td>...</td>\n",
              "    </tr>\n",
              "    <tr>\n",
              "      <th>96</th>\n",
              "      <td>21</td>\n",
              "      <td>76</td>\n",
              "    </tr>\n",
              "    <tr>\n",
              "      <th>97</th>\n",
              "      <td>21</td>\n",
              "      <td>57</td>\n",
              "    </tr>\n",
              "    <tr>\n",
              "      <th>98</th>\n",
              "      <td>22</td>\n",
              "      <td>57</td>\n",
              "    </tr>\n",
              "    <tr>\n",
              "      <th>99</th>\n",
              "      <td>22</td>\n",
              "      <td>87</td>\n",
              "    </tr>\n",
              "    <tr>\n",
              "      <th>100</th>\n",
              "      <td>22</td>\n",
              "      <td>66</td>\n",
              "    </tr>\n",
              "  </tbody>\n",
              "</table>\n",
              "<p>101 rows × 2 columns</p>\n",
              "</div>\n",
              "      <button class=\"colab-df-convert\" onclick=\"convertToInteractive('df-9f01f904-9da1-4145-95be-5447085e3d14')\"\n",
              "              title=\"Convert this dataframe to an interactive table.\"\n",
              "              style=\"display:none;\">\n",
              "        \n",
              "  <svg xmlns=\"http://www.w3.org/2000/svg\" height=\"24px\"viewBox=\"0 0 24 24\"\n",
              "       width=\"24px\">\n",
              "    <path d=\"M0 0h24v24H0V0z\" fill=\"none\"/>\n",
              "    <path d=\"M18.56 5.44l.94 2.06.94-2.06 2.06-.94-2.06-.94-.94-2.06-.94 2.06-2.06.94zm-11 1L8.5 8.5l.94-2.06 2.06-.94-2.06-.94L8.5 2.5l-.94 2.06-2.06.94zm10 10l.94 2.06.94-2.06 2.06-.94-2.06-.94-.94-2.06-.94 2.06-2.06.94z\"/><path d=\"M17.41 7.96l-1.37-1.37c-.4-.4-.92-.59-1.43-.59-.52 0-1.04.2-1.43.59L10.3 9.45l-7.72 7.72c-.78.78-.78 2.05 0 2.83L4 21.41c.39.39.9.59 1.41.59.51 0 1.02-.2 1.41-.59l7.78-7.78 2.81-2.81c.8-.78.8-2.07 0-2.86zM5.41 20L4 18.59l7.72-7.72 1.47 1.35L5.41 20z\"/>\n",
              "  </svg>\n",
              "      </button>\n",
              "      \n",
              "  <style>\n",
              "    .colab-df-container {\n",
              "      display:flex;\n",
              "      flex-wrap:wrap;\n",
              "      gap: 12px;\n",
              "    }\n",
              "\n",
              "    .colab-df-convert {\n",
              "      background-color: #E8F0FE;\n",
              "      border: none;\n",
              "      border-radius: 50%;\n",
              "      cursor: pointer;\n",
              "      display: none;\n",
              "      fill: #1967D2;\n",
              "      height: 32px;\n",
              "      padding: 0 0 0 0;\n",
              "      width: 32px;\n",
              "    }\n",
              "\n",
              "    .colab-df-convert:hover {\n",
              "      background-color: #E2EBFA;\n",
              "      box-shadow: 0px 1px 2px rgba(60, 64, 67, 0.3), 0px 1px 3px 1px rgba(60, 64, 67, 0.15);\n",
              "      fill: #174EA6;\n",
              "    }\n",
              "\n",
              "    [theme=dark] .colab-df-convert {\n",
              "      background-color: #3B4455;\n",
              "      fill: #D2E3FC;\n",
              "    }\n",
              "\n",
              "    [theme=dark] .colab-df-convert:hover {\n",
              "      background-color: #434B5C;\n",
              "      box-shadow: 0px 1px 3px 1px rgba(0, 0, 0, 0.15);\n",
              "      filter: drop-shadow(0px 1px 2px rgba(0, 0, 0, 0.3));\n",
              "      fill: #FFFFFF;\n",
              "    }\n",
              "  </style>\n",
              "\n",
              "      <script>\n",
              "        const buttonEl =\n",
              "          document.querySelector('#df-9f01f904-9da1-4145-95be-5447085e3d14 button.colab-df-convert');\n",
              "        buttonEl.style.display =\n",
              "          google.colab.kernel.accessAllowed ? 'block' : 'none';\n",
              "\n",
              "        async function convertToInteractive(key) {\n",
              "          const element = document.querySelector('#df-9f01f904-9da1-4145-95be-5447085e3d14');\n",
              "          const dataTable =\n",
              "            await google.colab.kernel.invokeFunction('convertToInteractive',\n",
              "                                                     [key], {});\n",
              "          if (!dataTable) return;\n",
              "\n",
              "          const docLinkHtml = 'Like what you see? Visit the ' +\n",
              "            '<a target=\"_blank\" href=https://colab.research.google.com/notebooks/data_table.ipynb>data table notebook</a>'\n",
              "            + ' to learn more about interactive tables.';\n",
              "          element.innerHTML = '';\n",
              "          dataTable['output_type'] = 'display_data';\n",
              "          await google.colab.output.renderOutput(dataTable, element);\n",
              "          const docLink = document.createElement('div');\n",
              "          docLink.innerHTML = docLinkHtml;\n",
              "          element.appendChild(docLink);\n",
              "        }\n",
              "      </script>\n",
              "    </div>\n",
              "  </div>\n",
              "  "
            ]
          },
          "metadata": {},
          "execution_count": 19
        }
      ]
    },
    {
      "cell_type": "code",
      "source": [
        "import scipy.cluster.hierarchy as shc\n",
        "import matplotlib.pyplot as plt\n",
        "\n",
        "#https://www.kaggle.com/code/hiramfoster/hierarchical-clustering-with-dendrograms\n",
        "plt.figure(figsize=(10, 7))\n",
        "plt.title(\"Customers Dendrogram\")\n",
        "# Selecting Annual Income and Spending Scores by index\n",
        "selected_data = df3.iloc[:,] #1:3\n",
        "clusters = shc.linkage(selected_data, \n",
        "            method='ward', \n",
        "            metric=\"euclidean\") # distancia euclidiana\n",
        "shc.dendrogram(Z=clusters)\n",
        "plt.show()"
      ],
      "metadata": {
        "colab": {
          "base_uri": "https://localhost:8080/",
          "height": 447
        },
        "id": "ticEMZ34P1nk",
        "outputId": "bed64a77-fa9d-4aaa-8199-8d320cf4f48c"
      },
      "execution_count": null,
      "outputs": [
        {
          "output_type": "display_data",
          "data": {
            "text/plain": [
              "<Figure size 720x504 with 1 Axes>"
            ],
            "image/png": "[encoded data removed]"
          },
          "metadata": {}
        }
      ]
    },
    {
      "cell_type": "markdown",
      "source": [
        "##Análisis de Datos\n",
        "\n",
        "¿Cómo elegiste la medida de similitud y por qué?\n",
        "Apliqué cada medida de similitud a los datos de los artistas y mediante el proceso me di cuenta que el que dió mejores resultados fue el Agrupamiento Jerárquico con distancia euclidiana y por los datos que implementé fue una buena alternativa, además que la visualización se distigue mejor en ambas bases de datos y se puede entender con claridad. \n",
        "\n",
        "¿Qué se puede decir de los agrupamientos?\n",
        "Se puede hacer una buena visualización y nos da una idea de los agrupamientos que se van formando, en el caso de los artistas se puede ver cuantos conjuntos o cuantos conjuntos de artistas participaron entre si (4 agrupamientos, en este caso se puede observar que Pitbull, Enrique Iglesias, Thalía y Reik son los más solicitados y se puede comprobar observando el grafo) y en la base de datos de los cuáqueros tambien se da esa idea de los conjuntos de comunicaciones entre los cuáqueros. \n",
        "\n",
        "¿Qué diferencia hay con los grupos obtenidos del agrupamiento espectral?\n",
        "En el comportamiento de los datos y como se distribuye cada uno, visualmente tambien son múy diferentes pero ambos son útilies para observar como se van percibiendo los datos como determinar la trayectoria, los niveles de semejanza o compatibilidad que exista entre los conjuntos de datos. "
      ],
      "metadata": {
        "id": "76n4cjGKeY3K"
      }
    }
  ]
}